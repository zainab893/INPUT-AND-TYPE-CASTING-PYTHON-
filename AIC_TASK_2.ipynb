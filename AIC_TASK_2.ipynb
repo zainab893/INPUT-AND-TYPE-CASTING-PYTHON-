{
  "nbformat": 4,
  "nbformat_minor": 0,
  "metadata": {
    "colab": {
      "provenance": []
    },
    "kernelspec": {
      "name": "python3",
      "display_name": "Python 3"
    },
    "language_info": {
      "name": "python"
    }
  },
  "cells": [
    {
      "cell_type": "code",
      "execution_count": null,
      "metadata": {
        "id": "O-039qXrYfRR"
      },
      "outputs": [],
      "source": [
        "# SYEDA ZAINAB FATIMA\n",
        "# WS25-PAK-INP-AI-01\n",
        "# INPUT, TYPE CASTING AND COMMENTS"
      ]
    },
    {
      "cell_type": "code",
      "source": [
        "Var1=input(\"Enter your favourite planet: \")\n",
        "Var2=input(\"Enter your name: \")\n",
        "Var3=input(\"Enter your age: \")\n",
        "Var4=input(\"Enter your favourite number: \")\n",
        "Var5=input(\"Enter your gmail\")\n",
        "Var6=input(\"Enter your favourite colour\")\n",
        "Var7=input(\"Enter your favourite component of galaxy: \")\n",
        "Var8=input(\"Enter your favourite component of space: \")\n",
        "Var9=input(\"Enter your favourite star: \")\n",
        "Var10=input(\"Enter your favourite area of interest: \")\n",
        "Var11=input(\"Enter your contact no.: \")\n",
        "Var12=input(\"Enter your CNIC NO.: \")\n",
        "Var13=input(\"Please enter 2 to 3 lines of description: \")\n",
        "Var14=input(\"Enter the credential ID: \")\n",
        "Var15=input(\"Enter the password: \")\n",
        "Var16=input(\"Enter the username: \")\n",
        "Var17=input(\"Please enter your gender: \")\n",
        "Var18=input(\"Enter your date of birth: \")\n",
        "Var19=input(\"Enter your marital status: \")\n",
        "Var20=input(\"Please Enter your skills: \")\n",
        "Var21=input(\"Please Enter your hobbies: \")\n",
        "Var22=input(\"Enter your Education Qualification: \")\n",
        "Var23=input(\"Enter your Work Experience: \")\n",
        "Var24=input(\"Enter your previous company: \")\n",
        "Var25=input(\"Enter your current company: \")\n",
        "Var26=input(\"Enter your current designation: \")\n",
        "Var27=input(\"Enter your Adress: \")\n",
        "Var28=input(\"Enter your City: \")input(\"Enter your City: \")\n",
        "Var29=input(\"Enter your Country: \")\n",
        "Var30=input(\"Enter your payment method: \")\n",
        "\n"
      ],
      "metadata": {
        "colab": {
          "base_uri": "https://localhost:8080/",
          "height": 556
        },
        "id": "rVAfjkrTYhVc",
        "outputId": "016f13f9-e9d6-404a-b087-2725e2a3a058"
      },
      "execution_count": null,
      "outputs": [
        {
          "name": "stdout",
          "output_type": "stream",
          "text": [
            "Enter your favourite planet: jupyter\n",
            "Enter your name: zainab\n",
            "Enter your age: 22\n",
            "Enter your favourite number: 5\n",
            "Enter your gmailsyedazainabf405@gmail.com\n",
            "Enter your favourite colourred and pink\n",
            "Enter your favourite component of galaxy: spiral arms\n",
            "Enter your favourite component of space: dark matter\n",
            "Enter your favourite star: proxima\n",
            "Enter your favourite area of interest: space and multiverse\n",
            "Enter your contact no.: 09865468432\n",
            "Enter your CNIC NO.: 5432167544678\n",
            "Please enter 2 to 3 lines of description: I'm very excited to become an expert in he field of AI\n",
            "Enter the credential ID: 9ijio098\n",
            "Enter the password: t655d5876t\n",
            "Enter the username: zainabou8j\n",
            "Please enter your gender: female\n",
            "Enter your date of birth: 25 july,2002\n",
            "Enter your marital status: unmarried\n",
            "Please Enter your skills: python,excel\n",
            "Please Enter your hobbies: programming\n",
            "Enter your Education Qualification: bs graduate\n",
            "Enter your Work Experience: 1 month intern online marketing\n",
            "Enter your previous company: pintern\n",
            "Enter your current company: AI Cadmey\n",
            "Enter your current designation: internship\n",
            "Enter your Adress: ctrfcyhcj kj\n",
            "Enter your City: multan\n",
            "Enter your Country: pakistan\n",
            "Enter your payment method: COD\n"
          ]
        },
        {
          "output_type": "execute_result",
          "data": {
            "text/plain": [
              "'COD'"
            ],
            "application/vnd.google.colaboratory.intrinsic+json": {
              "type": "string"
            }
          },
          "metadata": {},
          "execution_count": 2
        }
      ]
    },
    {
      "cell_type": "code",
      "source": [
        "# int\n",
        "var_1=int(input(\"Enter your contact no.: \"))\n",
        "var_2=int(input(\"Enter your age: \"))\n",
        "var_3=int(input(\"Enter your favourite number: \"))\n",
        "var_4=int(input(\"how many skills do you have: \"))\n",
        "var_5=int(input(\"how many yaers of experience do you have: \"))\n",
        "var_6=int(input(\"how many years of education do you have: \"))\n",
        "var_7=int(input(\"how many types of main variables are there in python: \"))\n",
        "var_8=int(input(\"How manysiblings do you have: \"))\n",
        "var_9=int(input(\"how many algorithms do you know: \"))\n",
        "var_10=int(input(\"how many colours do you like: \"))"
      ],
      "metadata": {
        "colab": {
          "base_uri": "https://localhost:8080/"
        },
        "id": "8IBHXhmIYhYS",
        "outputId": "5097c950-68ab-47e1-d2de-8e849b80ec67"
      },
      "execution_count": null,
      "outputs": [
        {
          "name": "stdout",
          "output_type": "stream",
          "text": [
            "Enter your contact no.: 0283887528\n",
            "Enter your age: 22\n",
            "Enter your favourite number: 5\n",
            "how many skills do you have: 2\n",
            "how many yaers of experience do you have: 0\n",
            "how many years of education do you have: 16\n",
            "how many types of main variables are there in python: 4\n",
            "How manysiblings do you have: 2\n",
            "how many algorithms do you know: 4\n",
            "how many colours do you like: 2\n"
          ]
        }
      ]
    },
    {
      "cell_type": "code",
      "source": [
        "# string\n",
        "var_a=str(input(\"Enter your name:\"))\n",
        "var_b=str(input(\"Enter your favourite planet:\"))\n",
        "var_c=str(input(\"Enter your favourite colour:\"))\n",
        "var_d=str(input(\"Enter your favourite component of galaxy:\"))\n",
        "var_e=str(input(\"Enter your favourite component of space:\"))\n",
        "var_f=str(input(\"Enter your favourite food: \"))\n",
        "var_g=str(input(\"Enter your favourite AI tool: \"))\n",
        "var_h=str(input(\"Enter your favourite star: \"))\n",
        "var_i=str(input(\"Enter your favourite area of interest: \"))\n",
        "var_j=str(input(\"Enter your gmail: \"))"
      ],
      "metadata": {
        "colab": {
          "base_uri": "https://localhost:8080/"
        },
        "id": "5Ic3rJXVYhbu",
        "outputId": "12606664-d5bf-4fc3-9999-40b4c0ebbdd8"
      },
      "execution_count": null,
      "outputs": [
        {
          "name": "stdout",
          "output_type": "stream",
          "text": [
            "Enter your name:zainab\n",
            "Enter your favourite planet:jupyter\n",
            "Enter your favourite colour:red and pink\n",
            "Enter your favourite component of galaxy:spiral arms\n",
            "Enter your favourite component of space:dark matter\n",
            "Enter your favourite food: biryani\n",
            "Enter your favourite AI tool: robotic lens\n",
            "Enter your favourite star: proxima\n",
            "Enter your favourite area of interest: space and Mt\n",
            "Enter your gmail: syedazainabf405@gmail.com\n"
          ]
        }
      ]
    },
    {
      "cell_type": "code",
      "source": [
        "# float\n",
        "float_1=float(input(\"Enter your height: \"))\n",
        "float_2=float(input(\"Enter your weight: \"))\n",
        "float_3=float(input(\"Enter your BMI: \"))\n",
        "float_4=float(input(\"Enter your HBA1C: \"))\n",
        "float_5=float(input(\"Enter your percentage: \"))"
      ],
      "metadata": {
        "colab": {
          "base_uri": "https://localhost:8080/"
        },
        "id": "rv3IESKBYhlP",
        "outputId": "feb442ea-1b56-490d-a1c5-5a5764f08c41"
      },
      "execution_count": null,
      "outputs": [
        {
          "name": "stdout",
          "output_type": "stream",
          "text": [
            "Enter your height: 165.2\n",
            "Enter your weight: 70.1\n",
            "Enter your BMI: 25\n",
            "Enter your HBA1C: 6.2\n",
            "Enter your percentage: 85.8\n"
          ]
        }
      ]
    },
    {
      "cell_type": "code",
      "source": [
        "# bool\n",
        "bool_1=bool(input(\"Are you married: \"))\n",
        "bool_2=bool(input(\"Do you have experience: \"))\n",
        "bool_3=bool(input(\"DO you work in AI department: \"))\n",
        "bool_4=bool(input(\"Are you a student: \"))\n",
        "bool_5=bool(input(\"Are you a teacher: \"))"
      ],
      "metadata": {
        "colab": {
          "base_uri": "https://localhost:8080/"
        },
        "id": "RO5Dnnd8Yhou",
        "outputId": "9d620891-2be0-4d07-fe84-7497a03bc79b"
      },
      "execution_count": null,
      "outputs": [
        {
          "name": "stdout",
          "output_type": "stream",
          "text": [
            "Are you married: false\n",
            "Do you have experience: false\n",
            "DO you work in AI department: true\n",
            "Are you a student: true\n",
            "Are you a teacher: false\n"
          ]
        }
      ]
    },
    {
      "cell_type": "code",
      "source": [
        "# comments\n",
        "# I am excitedto become a professional and an expert in the field of AI"
      ],
      "metadata": {
        "id": "JAUxy_-EYhuM"
      },
      "execution_count": null,
      "outputs": []
    }
  ]
}